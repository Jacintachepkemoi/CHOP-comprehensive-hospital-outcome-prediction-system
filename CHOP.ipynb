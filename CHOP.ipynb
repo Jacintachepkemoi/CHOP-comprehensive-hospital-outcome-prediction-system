{
 "cells": [
  {
   "cell_type": "markdown",
   "metadata": {},
   "source": [
    "### DATA PREPARATION"
   ]
  },
  {
   "cell_type": "markdown",
   "metadata": {},
   "source": [
    "Importing necssary libraries"
   ]
  },
  {
   "cell_type": "code",
   "execution_count": null,
   "metadata": {},
   "outputs": [],
   "source": [
    "import pandas as pd\n",
    "import numpy as np\n",
    "\n",
    "import df_helper as dfh\n",
    "\n",
    "df_helper = dfh.df_helper()"
   ]
  },
  {
   "cell_type": "markdown",
   "metadata": {},
   "source": [
    "Loading the data"
   ]
  },
  {
   "cell_type": "code",
   "execution_count": null,
   "metadata": {},
   "outputs": [],
   "source": [
    "\n",
    "admissions = pd.read_csv('data/admissions.csv')\n",
    "omr = pd.read_csv('data/omr.csv')\n",
    "diagnoses = pd.read_csv('data/diagnoses_icd.csv')\n",
    "patients=pd.read_csv(\"data/patients.csv\")\n",
    "diagnoses2=pd.read_csv(\"data/d_icd_diagnoses.csv\")\n",
    "prescriptions=pd.read_csv(\"data/prescriptions.csv\")"
   ]
  },
  {
   "cell_type": "markdown",
   "metadata": {},
   "source": [
    "The first step was to view the data."
   ]
  },
  {
   "cell_type": "code",
   "execution_count": null,
   "metadata": {},
   "outputs": [],
   "source": [
    "admissions.head()"
   ]
  },
  {
   "cell_type": "code",
   "execution_count": null,
   "metadata": {},
   "outputs": [],
   "source": [
    "omr.head()"
   ]
  },
  {
   "cell_type": "code",
   "execution_count": null,
   "metadata": {},
   "outputs": [],
   "source": [
    "patients.head()"
   ]
  },
  {
   "cell_type": "code",
   "execution_count": null,
   "metadata": {},
   "outputs": [],
   "source": [
    "prescriptions.head()"
   ]
  },
  {
   "cell_type": "code",
   "execution_count": null,
   "metadata": {},
   "outputs": [],
   "source": [
    "diagnoses.head()"
   ]
  },
  {
   "cell_type": "code",
   "execution_count": null,
   "metadata": {},
   "outputs": [],
   "source": [
    "diagnoses2.head()"
   ]
  },
  {
   "cell_type": "code",
   "execution_count": null,
   "metadata": {},
   "outputs": [],
   "source": [
    "# Function to split blood pressure and convert to numeric\n",
    "def preprocess_blood_pressure(bp_str):\n",
    "    if pd.isna(bp_str) or not isinstance(bp_str, str):\n",
    "        return pd.Series([None, None])\n",
    "    try:\n",
    "        systolic, diastolic = map(int, bp_str.split('/'))\n",
    "        return pd.Series([systolic, diastolic])\n",
    "    except:\n",
    "        return pd.Series([None, None])"
   ]
  },
  {
   "cell_type": "code",
   "execution_count": null,
   "metadata": {},
   "outputs": [],
   "source": [
    "pivot_omr = omr.pivot_table(\n",
    "    index=['subject_id'], \n",
    "    columns='result_name', \n",
    "    values='result_value', aggfunc=\"last\"\n",
    ").reset_index()\n",
    "\n",
    "df_helper.drop_columns(pivot_omr,[\n",
    "    \"Blood Pressure Lying\", \n",
    "    \"Blood Pressure Sitting\", \n",
    "    \"Blood Pressure Standing (1 min)\", \n",
    "    \"Blood Pressure Standing (3 mins)\"\n",
    "])\n",
    "\n",
    "df_helper.rename_columns(pivot_omr, {\n",
    "    \"BMI (kg/m2)\":\"bmi\",\n",
    "    \"Blood Pressure\":\"blood pressure\",\n",
    "    \"Height (Inches)\":\"height\",\n",
    "    \"Weight (Lbs)\":\"weight\"\n",
    "})\n",
    "\n",
    "pivot_omr = df_helper.convert_inches_to_meters(pivot_omr, \"height\", 2)\n",
    "pivot_omr = df_helper.convert_lbs_to_kg(pivot_omr, \"weight\", 2)\n",
    "\n",
    "# Apply the function and expand into separate columns\n",
    "pivot_omr[['bp_systolic', 'bp_diastolic']] = pivot_omr['blood pressure'].apply(preprocess_blood_pressure)\n",
    "df_helper.drop_columns(\n",
    "    pivot_omr,[\n",
    "        \"blood pressure\",\n",
    "    ]\n",
    ")\n",
    "\n",
    "pivot_omr"
   ]
  },
  {
   "cell_type": "code",
   "execution_count": null,
   "metadata": {},
   "outputs": [],
   "source": [
    "#defining t a function to define the base of all dataframes\n",
    "base_df = pd.merge(admissions, pivot_omr, how=\"left\", on=\"subject_id\")\n",
    "df_helper.drop_columns(\n",
    "    base_df,[\n",
    "        \"admit_provider_id\",\n",
    "        \"discharge_location\",\n",
    "        \"hospital_expire_flag\",\n",
    "        \"edregtime\",\n",
    "        \"edouttime\",\n",
    "])\n",
    "filtered_df=df_helper.column_subset(\n",
    "    patients,[\n",
    "        \"subject_id\",\n",
    "        \"gender\",\n",
    "        \"anchor_age\"\n",
    "])\n",
    "base_df=pd.merge(filtered_df, base_df, on=\"subject_id\", how=\"right\")\n",
    "#rename anchor_age to age\n",
    "df_helper.rename_column(base_df, \"anchor_age\", \"age\")\n",
    "base_df"
   ]
  },
  {
   "cell_type": "code",
   "execution_count": null,
   "metadata": {},
   "outputs": [],
   "source": [
    "merged_diagnoses= pd.merge(diagnoses, diagnoses2, on=['icd_code', 'icd_version'], how='left')\n",
    "merged_diagnoses.drop([\"icd_code\", \"icd_version\",\"seq_num\"],axis=1,inplace=True)\n",
    "#rename long_title column to diagnosis\n",
    "merged_diagnoses.rename(columns={\"long_title\":\"diagnosis\"}, inplace=True)\n",
    "#merge diagnoseswith the pivot_omr dataframe using the subject_id column\n",
    "merged_diagnoses = pd.merge(merged_diagnoses, base_df, on=\"subject_id\", how=\"right\")\n",
    "merged_diagnoses.drop(\"hadm_id_y\", axis=1, inplace=True)\n",
    "#rename hadm_id_x to hadm_id\n",
    "merged_diagnoses.rename(columns={\"hadm_id_x\":\"hadm_id\"}, inplace=True)\n",
    "merged_diagnoses\n"
   ]
  },
  {
   "cell_type": "code",
   "execution_count": null,
   "metadata": {},
   "outputs": [],
   "source": [
    "death_df=admissions[[\"subject_id\",\"hadm_id\",\"deathtime\"]].copy()\n",
    "death_df[\"died\"]=death_df[\"deathtime\"].isna()==False\n",
    "death_df.drop(\"deathtime\",axis=1,inplace=True)\n",
    "death_df.head()"
   ]
  },
  {
   "cell_type": "code",
   "execution_count": null,
   "metadata": {},
   "outputs": [],
   "source": [
    "#Merge the death df with the merged diagnoses dataframe\n",
    "\n",
    "diagnoses_death_df=pd.merge(merged_diagnoses, death_df, on=[\"subject_id\",\"hadm_id\"], how=\"left\")\n",
    "diagnoses_death_df[\"died\"].fillna(False, inplace=True)\n",
    "diagnoses_death_df.drop(\"deathtime\",axis=1, inplace=True)\n",
    "diagnoses_death_df"
   ]
  },
  {
   "cell_type": "code",
   "execution_count": null,
   "metadata": {},
   "outputs": [],
   "source": [
    "# merging the filtered_df dataframe with the diagnoses_death_df dataframe using the subject_id column as the key. \n",
    "filtered_df=patients[[\"subject_id\",\"anchor_age\"]]\n",
    "diagnoses_death_df=pd.merge(filtered_df, diagnoses_death_df, on=\"subject_id\", how=\"right\")\n",
    "#rename anchor_age to age\n",
    "\n",
    "diagnoses_death_df.rename(columns={\"anchor_age\":\"age\"}, inplace=True)\n",
    "diagnoses_death_df"
   ]
  },
  {
   "cell_type": "code",
   "execution_count": null,
   "metadata": {},
   "outputs": [],
   "source": [
    "\n",
    "length_of_stay_df =diagnoses_death_df.copy()\n",
    "\n",
    "length_of_stay_df[\"admittime\"]=pd.to_datetime(length_of_stay_df[\"admittime\"])\n",
    "length_of_stay_df[\"dischtime\"]=pd.to_datetime(length_of_stay_df[\"dischtime\"])\n",
    "\n",
    "#calculate the length of stay in days\n",
    "\n",
    "length_of_stay_df[\"length_of_stay\"]=length_of_stay_df[\"dischtime\"]-length_of_stay_df[\"admittime\"]\n",
    "length_of_stay_df[\"length_of_stay\"]=length_of_stay_df[\"length_of_stay\"].dt.days\n",
    "\n",
    "length_of_stay_df\n",
    "\n"
   ]
  },
  {
   "cell_type": "code",
   "execution_count": null,
   "metadata": {},
   "outputs": [],
   "source": [
    "#merging specific features from the prescriptions csv\n",
    "prescriptions_df=length_of_stay_df.copy()\n",
    "filtered_readmission_df =prescriptions[[\"subject_id\",\"hadm_id\",\"drug_type\",\"drug\"]]\n",
    "prescriptions_df=pd.merge(filtered_readmission_df, prescriptions_df, on=[\"subject_id\",\"hadm_id\"],how=\"left\")\n",
    "#prescriptions.drop(\"gender_y\", axis=1, inplace=True)\n",
    "#rename gender_x to gender\n",
    "prescriptions_df.rename(columns={\"gender_x\":\"gender\"}, inplace=True)\n",
    "#dropping duplicates from the readmission_df\n",
    "prescriptions_df.drop_duplicates(inplace=True)\n",
    "prescriptions_df\n"
   ]
  },
  {
   "cell_type": "code",
   "execution_count": null,
   "metadata": {},
   "outputs": [],
   "source": [
    "#Useful for TimeSeries\n",
    "df=admissions.copy()\n",
    "df.admittime = pd.to_datetime(df.admittime)   \n",
    "df.dischtime = pd.to_datetime(df.dischtime)\n",
    "\n",
    "df1 = df.groupby([df.admittime.dt.year, df.admittime.dt.month]).count().rename_axis(['year', 'month'])['admittime'].reset_index(name='Entries')\n",
    "\n",
    "df1"
   ]
  },
  {
   "cell_type": "code",
   "execution_count": null,
   "metadata": {},
   "outputs": [],
   "source": [
    "admissions.duplicated().value_counts()"
   ]
  },
  {
   "cell_type": "code",
   "execution_count": null,
   "metadata": {},
   "outputs": [],
   "source": [
    "#Calculating the number of readmissions for each subject_id using a readmission threshold of 30 days\n",
    "readmissions_df= admissions[[\"subject_id\",\"hadm_id\",\"admittime\",\"dischtime\"]].copy()\n",
    "\n",
    "\n",
    "readmissions_df['admittime'] = pd.to_datetime(readmissions_df['admittime'])\n",
    "readmissions_df['dischtime'] = pd.to_datetime(readmissions_df['dischtime'])\n",
    "\n",
    "# Assuming df is your dataframe and readmission_threshold is defined\n",
    "readmission_threshold = pd.Timedelta(days=30)\n",
    "\n",
    "# Sort by subject_id, admittime\n",
    "readmissions_df = readmissions_df.sort_values(by=['subject_id', 'admittime'])\n",
    "\n",
    "# Calculate the time to next admission and determine if it's a readmission\n",
    "readmissions_df['next_admittime'] = readmissions_df.groupby('subject_id')['admittime'].shift(-1)\n",
    "readmissions_df['readmission_time'] = readmissions_df['next_admittime'] - readmissions_df['dischtime']\n",
    "readmissions_df['is_readmission'] = (readmissions_df['readmission_time'] <= readmission_threshold) & (readmissions_df['readmission_time'] > pd.Timedelta(days=0))\n",
    "\n",
    "# Calculate readmissions per patient\n",
    "readmissions_df['readmissions'] = readmissions_df.groupby('subject_id')['is_readmission'].cumsum()\n",
    "\n",
    "#merge readmission_df with base_df\n",
    "base_copy = base_df.copy()\n",
    "base_copy.drop([\"admittime\", \"dischtime\"], axis=1, inplace=True)\n",
    "readmissions_df = pd.merge(readmissions_df, base_copy, on=['subject_id', 'hadm_id'], how='left')\n",
    "readmissions_df"
   ]
  },
  {
   "cell_type": "markdown",
   "metadata": {},
   "source": [
    "### Data Cleaning"
   ]
  },
  {
   "cell_type": "code",
   "execution_count": null,
   "metadata": {},
   "outputs": [],
   "source": [
    "#Checking for duplicates and missing values from the prescriptions df\n",
    "\n",
    "prescriptions_df.duplicated().sum()\n"
   ]
  },
  {
   "cell_type": "code",
   "execution_count": null,
   "metadata": {},
   "outputs": [],
   "source": [
    "#missing values\n",
    "prescriptions_df.isnull().sum()"
   ]
  },
  {
   "cell_type": "code",
   "execution_count": null,
   "metadata": {},
   "outputs": [],
   "source": [
    "#drop missing values from the dataset\n",
    "\n",
    "prescriptions_df.dropna(inplace=True)\n",
    "prescriptions_df"
   ]
  },
  {
   "cell_type": "code",
   "execution_count": null,
   "metadata": {},
   "outputs": [],
   "source": [
    "prescriptions_df.isnull().sum()"
   ]
  },
  {
   "cell_type": "code",
   "execution_count": null,
   "metadata": {},
   "outputs": [],
   "source": [
    "cleaned_data= prescriptions_df.copy()\n",
    "cleaned_data.head()"
   ]
  },
  {
   "cell_type": "markdown",
   "metadata": {},
   "source": [
    "Dropping duplicate age column"
   ]
  },
  {
   "cell_type": "code",
   "execution_count": null,
   "metadata": {},
   "outputs": [],
   "source": [
    "cleaned_data = cleaned_data.loc[:, ~cleaned_data.columns.duplicated(keep='first')]\n",
    "cleaned_data.columns"
   ]
  },
  {
   "cell_type": "code",
   "execution_count": null,
   "metadata": {},
   "outputs": [],
   "source": [
    "cleaned_data.to_csv(\"data/cleaned_data.csv\", index=False)"
   ]
  },
  {
   "cell_type": "markdown",
   "metadata": {},
   "source": [
    "## Exploratory Data Analysis\n"
   ]
  },
  {
   "cell_type": "code",
   "execution_count": null,
   "metadata": {},
   "outputs": [],
   "source": [
    "import matplotlib.pyplot as plt  # For basic plotting\n",
    "import seaborn as sns      # For enhanced statistical plots\n"
   ]
  },
  {
   "cell_type": "code",
   "execution_count": null,
   "metadata": {},
   "outputs": [],
   "source": [
    "cleaned_data.head()"
   ]
  },
  {
   "cell_type": "markdown",
   "metadata": {},
   "source": [
    "### a) Univariate Analysis\n",
    "Univariate analysis involves examining the distribution and characteristics of individual variables(numerical features). We'll go through this step by step.\n",
    "\n",
    "\n"
   ]
  },
  {
   "cell_type": "code",
   "execution_count": null,
   "metadata": {},
   "outputs": [],
   "source": [
    "# Function for univariate analysis\n",
    "def univariate_analysis(df, column_name):\n",
    "    # Summary statistics\n",
    "    summary = cleaned_data[column_name].describe()\n",
    "    print(f\"Summary statistics for {column_name}:\\n{summary}\\n\")\n",
    "\n",
    "    # Histogram\n",
    "    plt.figure(figsize=(8, 5))\n",
    "    sns.histplot(cleaned_data[column_name], bins=10, kde=True)\n",
    "    plt.title(f'Distribution of {column_name}')\n",
    "    plt.xlabel(column_name)\n",
    "    plt.ylabel('Frequency')\n",
    "    plt.show()\n",
    "\n",
    "    # Box plot to detect outliers\n",
    "    plt.figure(figsize=(8, 5))\n",
    "    sns.boxplot(x=cleaned_data[column_name])\n",
    "    plt.title(f'Box Plot of {column_name}')\n",
    "    plt.xlabel(column_name)\n",
    "    plt.show()"
   ]
  },
  {
   "cell_type": "markdown",
   "metadata": {},
   "source": [
    "#### 1. Distribution of Age"
   ]
  },
  {
   "cell_type": "code",
   "execution_count": null,
   "metadata": {},
   "outputs": [],
   "source": [
    "univariate_analysis(cleaned_data, 'age')"
   ]
  },
  {
   "cell_type": "markdown",
   "metadata": {},
   "source": [
    "* The age distribution is skewed left, indicating a higher proportion of older individuals with a mean age of 62.62 years and a standard deviation of 13.93 years. The data reveals a concentration of individuals between 53 and 72 years, with a peak around the 60-65 year age group, suggesting a predominantly older population.\n",
    "* The box plot reveals a clear left-skewed distribution of age, characterized by a longer whisker towards the younger end of the age spectrum, indicating a larger proportion of older individuals within the dataset and a median age situated approximately at the 65-year mark."
   ]
  },
  {
   "cell_type": "markdown",
   "metadata": {},
   "source": [
    "#### 2. length_of_stay"
   ]
  },
  {
   "cell_type": "code",
   "execution_count": null,
   "metadata": {},
   "outputs": [],
   "source": [
    "univariate_analysis(cleaned_data, 'length_of_stay')"
   ]
  },
  {
   "cell_type": "markdown",
   "metadata": {},
   "source": [
    "* The distribution of length of stay is right-skewed, with a mean of 8.24 days and a median likely between 6-7 days (as indicated by the 50th percentile). This suggests that most patients have shorter stays, but there is a significant proportion of patients with longer stays, pulling the mean to the right. The distribution is characterized by a long tail, indicating the presence of outliers with exceptionally long lengths of stay.\n",
    "* For the box plot,The presence of numerous outliers, representing patients with significantly longer stays, contributes to the elongated right tail of the distribution. This suggests that a small subset of patients account for a disproportionate amount of the overall length of stay."
   ]
  },
  {
   "cell_type": "markdown",
   "metadata": {},
   "source": [
    "### b) Bivariate Analysis\n",
    "\n",
    "Used to investigate the relationship between two variables.\n",
    "\n",
    "Lets start with a contingency table that shows the frequency distribution of variables\n",
    "\n",
    "#### 1. Admission type vs Died\n"
   ]
  },
  {
   "cell_type": "code",
   "execution_count": null,
   "metadata": {},
   "outputs": [],
   "source": [
    "# Crosstab for Admission Type vs Died\n",
    "contingency_table = pd.crosstab(cleaned_data['admission_type'], cleaned_data['died'])\n",
    "print(contingency_table)\n"
   ]
  },
  {
   "cell_type": "code",
   "execution_count": null,
   "metadata": {},
   "outputs": [],
   "source": [
    "# Stacked bar plot for Admission Type vs Died\n",
    "contingency_table.plot(kind='bar', stacked=True, figsize=(8, 5))\n",
    "plt.title('Admission Type vs Died')\n",
    "plt.xlabel('Admission Type')\n",
    "plt.ylabel('Count')\n",
    "plt.legend(title='Died')\n",
    "plt.show()\n"
   ]
  },
  {
   "cell_type": "markdown",
   "metadata": {},
   "source": [
    " The chart shows that admission types like EW EMER. and OBSERVATION ADMIT have higher overall patient counts, with a noticeable proportion of deaths. In contrast, admission types like AMBULATORY OBSERVATION and DIRECT OBSERVATION have lower overall counts and fewer associated deaths. This suggests potential correlations between admission type and mortality rates, with certain admission types possibly indicating higher risks."
   ]
  },
  {
   "cell_type": "code",
   "execution_count": null,
   "metadata": {},
   "outputs": [],
   "source": [
    "#creating a function for Bivariate analysis\n",
    "def bivariate_categorical_countplot(df, cat_var1, cat_var2):\n",
    "    \"\"\"\n",
    "    Perform bivariate analysis for two categorical features using a count plot.\n",
    "    \n",
    "    Parameters:\n",
    "    df (pd.DataFrame): The dataframe containing the data.\n",
    "    cat_var1 (str): The first categorical variable.\n",
    "    cat_var2 (str): The second categorical variable.\n",
    "    \"\"\"\n",
    "    \n",
    "    plt.figure(figsize=(10, 6))\n",
    "    sns.countplot(data=cleaned_data, x=cat_var1, hue=cat_var2, palette='Set1')\n",
    "    plt.title(f'{cat_var1} vs. {cat_var2}')\n",
    "    plt.xlabel(cat_var1)\n",
    "    plt.ylabel('Count')\n",
    "    plt.legend(title=cat_var2)\n",
    "    plt.show()\n"
   ]
  },
  {
   "cell_type": "markdown",
   "metadata": {},
   "source": [
    "#### 2. Gender vs Died"
   ]
  },
  {
   "cell_type": "code",
   "execution_count": null,
   "metadata": {},
   "outputs": [],
   "source": [
    "\n",
    "bivariate_categorical_countplot(cleaned_data, 'gender', 'died')"
   ]
  },
  {
   "cell_type": "markdown",
   "metadata": {},
   "source": [
    "The bar chart illustrates a higher mortality rate among male patients compared to female patients."
   ]
  },
  {
   "cell_type": "markdown",
   "metadata": {},
   "source": [
    "#### 3. Marital vs Died"
   ]
  },
  {
   "cell_type": "code",
   "execution_count": null,
   "metadata": {},
   "outputs": [],
   "source": [
    "bivariate_categorical_countplot(cleaned_data, 'marital_status', 'died')"
   ]
  },
  {
   "cell_type": "markdown",
   "metadata": {},
   "source": [
    "The bar chart illustrates that married individuals have the highest count, followed by widowed, divorced, and single individuals, with a disproportionately higher number of deaths among single individuals relative to their population size."
   ]
  },
  {
   "cell_type": "markdown",
   "metadata": {},
   "source": [
    "#### 4. Age vs Length of stay"
   ]
  },
  {
   "cell_type": "code",
   "execution_count": null,
   "metadata": {},
   "outputs": [],
   "source": [
    "cleaned_data.age"
   ]
  },
  {
   "cell_type": "code",
   "execution_count": null,
   "metadata": {},
   "outputs": [],
   "source": [
    "plt.figure(figsize=(10, 6))\n",
    "plt.scatter(cleaned_data['age'], cleaned_data['length_of_stay'], alpha=0.5)\n",
    "plt.title('Scatter Plot of Age vs. Length of Stay')\n",
    "plt.xlabel('Age')\n",
    "plt.ylabel('Length of Stay (days)')\n",
    "plt.grid(True)\n",
    "plt.show()\n"
   ]
  },
  {
   "cell_type": "markdown",
   "metadata": {},
   "source": [
    "The scatter plot indicates a weak or no correlation between age and length of stay. There is a wide range of lengths of stay for each age group, suggesting that factors other than age primarily influence the duration of hospitalization."
   ]
  },
  {
   "cell_type": "markdown",
   "metadata": {},
   "source": [
    "#### 5. Length of stay vs Marital status"
   ]
  },
  {
   "cell_type": "code",
   "execution_count": null,
   "metadata": {},
   "outputs": [],
   "source": [
    "plt.figure(figsize=(12, 6))\n",
    "cleaned_data.boxplot(column='length_of_stay', by='marital_status', grid=False)\n",
    "plt.title('Boxplot of Length of Stay by Marital Status')\n",
    "plt.suptitle('')  # Suppresses the automatic title to make the plot cleaner\n",
    "plt.xlabel('Marital Status')\n",
    "plt.ylabel('Length of Stay (days)')\n",
    "plt.show()\n"
   ]
  },
  {
   "cell_type": "markdown",
   "metadata": {},
   "source": [
    "Married individuals tend to have shorter hospital stays compared to divorced, single, and widowed individuals. Additionally, there are outliers in most groups, indicating some patients with exceptionally long hospital stays regardless of marital status. There is also greater variability in length of stay among divorced and widowed individuals."
   ]
  }
 ],
 "metadata": {
  "kernelspec": {
   "display_name": "base",
   "language": "python",
   "name": "python3"
  },
  "language_info": {
   "codemirror_mode": {
    "name": "ipython",
    "version": 3
   },
   "file_extension": ".py",
   "mimetype": "text/x-python",
   "name": "python",
   "nbconvert_exporter": "python",
   "pygments_lexer": "ipython3",
   "version": "3.8.19"
  }
 },
 "nbformat": 4,
 "nbformat_minor": 2
}
