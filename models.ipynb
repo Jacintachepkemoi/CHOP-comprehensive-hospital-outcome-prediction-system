{
 "cells": [
  {
   "cell_type": "markdown",
   "metadata": {},
   "source": [
    "## Modeling\n",
    "\n",
    "We begin by importing necessary libraries"
   ]
  },
  {
   "cell_type": "code",
   "execution_count": 1,
   "metadata": {},
   "outputs": [],
   "source": [
    "from sklearn.compose import ColumnTransformer\n",
    "from sklearn.preprocessing import OneHotEncoder\n",
    "from sklearn.discriminant_analysis import StandardScaler\n",
    "from sklearn.impute import SimpleImputer\n",
    "from sklearn.pipeline import Pipeline\n",
    "from sklearn.linear_model import LinearRegression\n",
    "from sklearn.ensemble import RandomForestRegressor\n",
    "from statsmodels.formula.api import ols\n",
    "import scipy.stats as stats\n",
    "from sklearn.decomposition import PCA\n",
    "import pandas as pd\n",
    "import numpy as np\n",
    "import seaborn as sns\n",
    "import matplotlib.pyplot as plt\n",
    "%matplotlib inline\n",
    "import df_helper\n",
    "\n",
    "dfh = df_helper.df_helper()"
   ]
  },
  {
   "cell_type": "markdown",
   "metadata": {},
   "source": [
    "### Inspecting the data"
   ]
  },
  {
   "cell_type": "code",
   "execution_count": 2,
   "metadata": {},
   "outputs": [
    {
     "data": {
      "text/html": [
       "<div>\n",
       "<style scoped>\n",
       "    .dataframe tbody tr th:only-of-type {\n",
       "        vertical-align: middle;\n",
       "    }\n",
       "\n",
       "    .dataframe tbody tr th {\n",
       "        vertical-align: top;\n",
       "    }\n",
       "\n",
       "    .dataframe thead th {\n",
       "        text-align: right;\n",
       "    }\n",
       "</style>\n",
       "<table border=\"1\" class=\"dataframe\">\n",
       "  <thead>\n",
       "    <tr style=\"text-align: right;\">\n",
       "      <th></th>\n",
       "      <th>drug</th>\n",
       "      <th>age</th>\n",
       "      <th>diagnosis</th>\n",
       "      <th>gender</th>\n",
       "      <th>admission_type</th>\n",
       "      <th>admission_location</th>\n",
       "      <th>insurance</th>\n",
       "      <th>marital_status</th>\n",
       "      <th>race</th>\n",
       "      <th>bmi</th>\n",
       "      <th>height</th>\n",
       "      <th>weight</th>\n",
       "      <th>bp_systolic</th>\n",
       "      <th>bp_diastolic</th>\n",
       "      <th>died</th>\n",
       "      <th>length_of_stay</th>\n",
       "    </tr>\n",
       "  </thead>\n",
       "  <tbody>\n",
       "    <tr>\n",
       "      <th>0</th>\n",
       "      <td>Fentanyl Citrate</td>\n",
       "      <td>71</td>\n",
       "      <td>Urinary tract infection, site not specified</td>\n",
       "      <td>F</td>\n",
       "      <td>EW EMER.</td>\n",
       "      <td>EMERGENCY ROOM</td>\n",
       "      <td>Other</td>\n",
       "      <td>SINGLE</td>\n",
       "      <td>WHITE</td>\n",
       "      <td>27.7</td>\n",
       "      <td>1.59</td>\n",
       "      <td>69.17</td>\n",
       "      <td>128.0</td>\n",
       "      <td>80.0</td>\n",
       "      <td>False</td>\n",
       "      <td>21</td>\n",
       "    </tr>\n",
       "    <tr>\n",
       "      <th>1</th>\n",
       "      <td>Fentanyl Citrate</td>\n",
       "      <td>71</td>\n",
       "      <td>Acute respiratory failure</td>\n",
       "      <td>F</td>\n",
       "      <td>EW EMER.</td>\n",
       "      <td>EMERGENCY ROOM</td>\n",
       "      <td>Other</td>\n",
       "      <td>SINGLE</td>\n",
       "      <td>WHITE</td>\n",
       "      <td>27.7</td>\n",
       "      <td>1.59</td>\n",
       "      <td>69.17</td>\n",
       "      <td>128.0</td>\n",
       "      <td>80.0</td>\n",
       "      <td>False</td>\n",
       "      <td>21</td>\n",
       "    </tr>\n",
       "    <tr>\n",
       "      <th>2</th>\n",
       "      <td>Fentanyl Citrate</td>\n",
       "      <td>71</td>\n",
       "      <td>Asthma, unspecified type, unspecified</td>\n",
       "      <td>F</td>\n",
       "      <td>EW EMER.</td>\n",
       "      <td>EMERGENCY ROOM</td>\n",
       "      <td>Other</td>\n",
       "      <td>SINGLE</td>\n",
       "      <td>WHITE</td>\n",
       "      <td>27.7</td>\n",
       "      <td>1.59</td>\n",
       "      <td>69.17</td>\n",
       "      <td>128.0</td>\n",
       "      <td>80.0</td>\n",
       "      <td>False</td>\n",
       "      <td>21</td>\n",
       "    </tr>\n",
       "    <tr>\n",
       "      <th>3</th>\n",
       "      <td>Fentanyl Citrate</td>\n",
       "      <td>71</td>\n",
       "      <td>Solitary pulmonary nodule</td>\n",
       "      <td>F</td>\n",
       "      <td>EW EMER.</td>\n",
       "      <td>EMERGENCY ROOM</td>\n",
       "      <td>Other</td>\n",
       "      <td>SINGLE</td>\n",
       "      <td>WHITE</td>\n",
       "      <td>27.7</td>\n",
       "      <td>1.59</td>\n",
       "      <td>69.17</td>\n",
       "      <td>128.0</td>\n",
       "      <td>80.0</td>\n",
       "      <td>False</td>\n",
       "      <td>21</td>\n",
       "    </tr>\n",
       "    <tr>\n",
       "      <th>4</th>\n",
       "      <td>Fentanyl Citrate</td>\n",
       "      <td>71</td>\n",
       "      <td>Streptococcus infection in conditions classifi...</td>\n",
       "      <td>F</td>\n",
       "      <td>EW EMER.</td>\n",
       "      <td>EMERGENCY ROOM</td>\n",
       "      <td>Other</td>\n",
       "      <td>SINGLE</td>\n",
       "      <td>WHITE</td>\n",
       "      <td>27.7</td>\n",
       "      <td>1.59</td>\n",
       "      <td>69.17</td>\n",
       "      <td>128.0</td>\n",
       "      <td>80.0</td>\n",
       "      <td>False</td>\n",
       "      <td>21</td>\n",
       "    </tr>\n",
       "  </tbody>\n",
       "</table>\n",
       "</div>"
      ],
      "text/plain": [
       "               drug  age                                          diagnosis  \\\n",
       "0  Fentanyl Citrate   71        Urinary tract infection, site not specified   \n",
       "1  Fentanyl Citrate   71                          Acute respiratory failure   \n",
       "2  Fentanyl Citrate   71              Asthma, unspecified type, unspecified   \n",
       "3  Fentanyl Citrate   71                          Solitary pulmonary nodule   \n",
       "4  Fentanyl Citrate   71  Streptococcus infection in conditions classifi...   \n",
       "\n",
       "  gender admission_type admission_location insurance marital_status   race  \\\n",
       "0      F       EW EMER.     EMERGENCY ROOM     Other         SINGLE  WHITE   \n",
       "1      F       EW EMER.     EMERGENCY ROOM     Other         SINGLE  WHITE   \n",
       "2      F       EW EMER.     EMERGENCY ROOM     Other         SINGLE  WHITE   \n",
       "3      F       EW EMER.     EMERGENCY ROOM     Other         SINGLE  WHITE   \n",
       "4      F       EW EMER.     EMERGENCY ROOM     Other         SINGLE  WHITE   \n",
       "\n",
       "    bmi  height  weight  bp_systolic  bp_diastolic   died  length_of_stay  \n",
       "0  27.7    1.59   69.17        128.0          80.0  False              21  \n",
       "1  27.7    1.59   69.17        128.0          80.0  False              21  \n",
       "2  27.7    1.59   69.17        128.0          80.0  False              21  \n",
       "3  27.7    1.59   69.17        128.0          80.0  False              21  \n",
       "4  27.7    1.59   69.17        128.0          80.0  False              21  "
      ]
     },
     "execution_count": 2,
     "metadata": {},
     "output_type": "execute_result"
    }
   ],
   "source": [
    "model_df = pd.read_csv(\"data/cleaned_data.csv\")\n",
    "dfh.drop_columns(\n",
    "    model_df,[\n",
    "        \"subject_id\",\n",
    "        \"hadm_id\",\n",
    "        \"drug_type\",\n",
    "        \"admittime\",\n",
    "        \"dischtime\",\n",
    "        \"language\",\n",
    "])\n",
    "#convert bmi column to numeric\n",
    "model_df.bmi = model_df.bmi.astype(float)\n",
    "\n",
    "\n",
    "model_df.head()"
   ]
  },
  {
   "cell_type": "markdown",
   "metadata": {},
   "source": [
    "Next we check for correlations between numerical features"
   ]
  },
  {
   "cell_type": "code",
   "execution_count": 3,
   "metadata": {},
   "outputs": [
    {
     "data": {
      "image/png": "[encoded data removed]",
      "text/plain": [
       "<Figure size 1000x500 with 2 Axes>"
      ]
     },
     "metadata": {},
     "output_type": "display_data"
    }
   ],
   "source": [
    "correlations_matrix = model_df[dfh.numerical_columns(model_df)].corr(method='spearman') \n",
    "correlations_matrix=round(correlations_matrix.corr(),2)\n",
    "\n",
    "mask = np.zeros_like(correlations_matrix)\n",
    "mask[np.triu_indices_from(mask)] = True\n",
    "fig, map = plt.subplots(figsize=(10, 5))\n",
    "map = sns.heatmap(correlations_matrix, mask=mask, annot=True, cmap='viridis')\n",
    "plt.title('Correlation Matrix')\n",
    "plt.show()"
   ]
  },
  {
   "cell_type": "markdown",
   "metadata": {},
   "source": [
    "**Observations**\n",
    "- The correlation between weight and BMI is very strong. Drop BMI in favour of weight.\n",
    "- Height and weight are highly correlated. Drop height in favour of weight."
   ]
  },
  {
   "cell_type": "code",
   "execution_count": 4,
   "metadata": {},
   "outputs": [
    {
     "name": "stdout",
     "output_type": "stream",
     "text": [
      "<class 'pandas.core.frame.DataFrame'>\n",
      "RangeIndex: 1025833 entries, 0 to 1025832\n",
      "Data columns (total 14 columns):\n",
      " #   Column              Non-Null Count    Dtype  \n",
      "---  ------              --------------    -----  \n",
      " 0   drug                1025833 non-null  object \n",
      " 1   age                 1025833 non-null  int64  \n",
      " 2   diagnosis           1025833 non-null  object \n",
      " 3   gender              1025833 non-null  object \n",
      " 4   admission_type      1025833 non-null  object \n",
      " 5   admission_location  1025833 non-null  object \n",
      " 6   insurance           1025833 non-null  object \n",
      " 7   marital_status      1025833 non-null  object \n",
      " 8   race                1025833 non-null  object \n",
      " 9   weight              1025833 non-null  float64\n",
      " 10  bp_systolic         1025833 non-null  float64\n",
      " 11  bp_diastolic        1025833 non-null  float64\n",
      " 12  died                1025833 non-null  bool   \n",
      " 13  length_of_stay      1025833 non-null  int64  \n",
      "dtypes: bool(1), float64(3), int64(2), object(8)\n",
      "memory usage: 102.7+ MB\n",
      "None\n"
     ]
    },
    {
     "data": {
      "text/html": [
       "<div>\n",
       "<style scoped>\n",
       "    .dataframe tbody tr th:only-of-type {\n",
       "        vertical-align: middle;\n",
       "    }\n",
       "\n",
       "    .dataframe tbody tr th {\n",
       "        vertical-align: top;\n",
       "    }\n",
       "\n",
       "    .dataframe thead th {\n",
       "        text-align: right;\n",
       "    }\n",
       "</style>\n",
       "<table border=\"1\" class=\"dataframe\">\n",
       "  <thead>\n",
       "    <tr style=\"text-align: right;\">\n",
       "      <th></th>\n",
       "      <th>drug</th>\n",
       "      <th>age</th>\n",
       "      <th>diagnosis</th>\n",
       "      <th>gender</th>\n",
       "      <th>admission_type</th>\n",
       "      <th>admission_location</th>\n",
       "      <th>insurance</th>\n",
       "      <th>marital_status</th>\n",
       "      <th>race</th>\n",
       "      <th>weight</th>\n",
       "      <th>bp_systolic</th>\n",
       "      <th>bp_diastolic</th>\n",
       "      <th>died</th>\n",
       "      <th>length_of_stay</th>\n",
       "    </tr>\n",
       "  </thead>\n",
       "  <tbody>\n",
       "    <tr>\n",
       "      <th>0</th>\n",
       "      <td>Fentanyl Citrate</td>\n",
       "      <td>71</td>\n",
       "      <td>Urinary tract infection, site not specified</td>\n",
       "      <td>F</td>\n",
       "      <td>EW EMER.</td>\n",
       "      <td>EMERGENCY ROOM</td>\n",
       "      <td>Other</td>\n",
       "      <td>SINGLE</td>\n",
       "      <td>WHITE</td>\n",
       "      <td>69.17</td>\n",
       "      <td>128.0</td>\n",
       "      <td>80.0</td>\n",
       "      <td>False</td>\n",
       "      <td>21</td>\n",
       "    </tr>\n",
       "    <tr>\n",
       "      <th>1</th>\n",
       "      <td>Fentanyl Citrate</td>\n",
       "      <td>71</td>\n",
       "      <td>Acute respiratory failure</td>\n",
       "      <td>F</td>\n",
       "      <td>EW EMER.</td>\n",
       "      <td>EMERGENCY ROOM</td>\n",
       "      <td>Other</td>\n",
       "      <td>SINGLE</td>\n",
       "      <td>WHITE</td>\n",
       "      <td>69.17</td>\n",
       "      <td>128.0</td>\n",
       "      <td>80.0</td>\n",
       "      <td>False</td>\n",
       "      <td>21</td>\n",
       "    </tr>\n",
       "    <tr>\n",
       "      <th>2</th>\n",
       "      <td>Fentanyl Citrate</td>\n",
       "      <td>71</td>\n",
       "      <td>Asthma, unspecified type, unspecified</td>\n",
       "      <td>F</td>\n",
       "      <td>EW EMER.</td>\n",
       "      <td>EMERGENCY ROOM</td>\n",
       "      <td>Other</td>\n",
       "      <td>SINGLE</td>\n",
       "      <td>WHITE</td>\n",
       "      <td>69.17</td>\n",
       "      <td>128.0</td>\n",
       "      <td>80.0</td>\n",
       "      <td>False</td>\n",
       "      <td>21</td>\n",
       "    </tr>\n",
       "    <tr>\n",
       "      <th>3</th>\n",
       "      <td>Fentanyl Citrate</td>\n",
       "      <td>71</td>\n",
       "      <td>Solitary pulmonary nodule</td>\n",
       "      <td>F</td>\n",
       "      <td>EW EMER.</td>\n",
       "      <td>EMERGENCY ROOM</td>\n",
       "      <td>Other</td>\n",
       "      <td>SINGLE</td>\n",
       "      <td>WHITE</td>\n",
       "      <td>69.17</td>\n",
       "      <td>128.0</td>\n",
       "      <td>80.0</td>\n",
       "      <td>False</td>\n",
       "      <td>21</td>\n",
       "    </tr>\n",
       "    <tr>\n",
       "      <th>4</th>\n",
       "      <td>Fentanyl Citrate</td>\n",
       "      <td>71</td>\n",
       "      <td>Streptococcus infection in conditions classifi...</td>\n",
       "      <td>F</td>\n",
       "      <td>EW EMER.</td>\n",
       "      <td>EMERGENCY ROOM</td>\n",
       "      <td>Other</td>\n",
       "      <td>SINGLE</td>\n",
       "      <td>WHITE</td>\n",
       "      <td>69.17</td>\n",
       "      <td>128.0</td>\n",
       "      <td>80.0</td>\n",
       "      <td>False</td>\n",
       "      <td>21</td>\n",
       "    </tr>\n",
       "  </tbody>\n",
       "</table>\n",
       "</div>"
      ],
      "text/plain": [
       "               drug  age                                          diagnosis  \\\n",
       "0  Fentanyl Citrate   71        Urinary tract infection, site not specified   \n",
       "1  Fentanyl Citrate   71                          Acute respiratory failure   \n",
       "2  Fentanyl Citrate   71              Asthma, unspecified type, unspecified   \n",
       "3  Fentanyl Citrate   71                          Solitary pulmonary nodule   \n",
       "4  Fentanyl Citrate   71  Streptococcus infection in conditions classifi...   \n",
       "\n",
       "  gender admission_type admission_location insurance marital_status   race  \\\n",
       "0      F       EW EMER.     EMERGENCY ROOM     Other         SINGLE  WHITE   \n",
       "1      F       EW EMER.     EMERGENCY ROOM     Other         SINGLE  WHITE   \n",
       "2      F       EW EMER.     EMERGENCY ROOM     Other         SINGLE  WHITE   \n",
       "3      F       EW EMER.     EMERGENCY ROOM     Other         SINGLE  WHITE   \n",
       "4      F       EW EMER.     EMERGENCY ROOM     Other         SINGLE  WHITE   \n",
       "\n",
       "   weight  bp_systolic  bp_diastolic   died  length_of_stay  \n",
       "0   69.17        128.0          80.0  False              21  \n",
       "1   69.17        128.0          80.0  False              21  \n",
       "2   69.17        128.0          80.0  False              21  \n",
       "3   69.17        128.0          80.0  False              21  \n",
       "4   69.17        128.0          80.0  False              21  "
      ]
     },
     "execution_count": 4,
     "metadata": {},
     "output_type": "execute_result"
    }
   ],
   "source": [
    "dfh.drop_columns(\n",
    "    model_df,[\n",
    "        \"bmi\",\n",
    "        \"height\",\n",
    "    ]\n",
    ")\n",
    "print(model_df.info())\n",
    "model_df.head()"
   ]
  },
  {
   "cell_type": "markdown",
   "metadata": {},
   "source": [
    "Reducing number of categories in categorical variables"
   ]
  },
  {
   "cell_type": "code",
   "execution_count": 5,
   "metadata": {},
   "outputs": [],
   "source": [
    "dfh.reduce_unique_values(model_df, 'drug', 150)\n",
    "dfh.reduce_unique_values(model_df, 'diagnosis', 200)"
   ]
  },
  {
   "cell_type": "markdown",
   "metadata": {},
   "source": [
    "## Length of stay\n",
    "Investigating the target variable"
   ]
  },
  {
   "cell_type": "code",
   "execution_count": 6,
   "metadata": {},
   "outputs": [
    {
     "data": {
      "image/png": "[encoded data removed]",
      "text/plain": [
       "<Figure size 640x480 with 1 Axes>"
      ]
     },
     "metadata": {},
     "output_type": "display_data"
    }
   ],
   "source": [
    "dfh.qqplot(model_df, \"length_of_stay\")"
   ]
  },
  {
   "cell_type": "code",
   "execution_count": 7,
   "metadata": {},
   "outputs": [
    {
     "data": {
      "image/png": "[encoded data removed]",
      "text/plain": [
       "<Figure size 640x480 with 1 Axes>"
      ]
     },
     "metadata": {},
     "output_type": "display_data"
    }
   ],
   "source": [
    "model_df.length_of_stay.plot(kind=\"hist\");"
   ]
  },
  {
   "cell_type": "code",
   "execution_count": 8,
   "metadata": {},
   "outputs": [
    {
     "data": {
      "image/png": "[encoded data removed]",
      "text/plain": [
       "<Figure size 640x480 with 1 Axes>"
      ]
     },
     "metadata": {},
     "output_type": "display_data"
    }
   ],
   "source": [
    "model_df.length_of_stay.plot(kind=\"box\");\n"
   ]
  },
  {
   "cell_type": "code",
   "execution_count": 9,
   "metadata": {},
   "outputs": [
    {
     "name": "stdout",
     "output_type": "stream",
     "text": [
      "<class 'pandas.core.frame.DataFrame'>\n",
      "Index: 961449 entries, 0 to 1025832\n",
      "Data columns (total 14 columns):\n",
      " #   Column              Non-Null Count   Dtype  \n",
      "---  ------              --------------   -----  \n",
      " 0   drug                961449 non-null  object \n",
      " 1   age                 961449 non-null  int64  \n",
      " 2   diagnosis           961449 non-null  object \n",
      " 3   gender              961449 non-null  object \n",
      " 4   admission_type      961449 non-null  object \n",
      " 5   admission_location  961449 non-null  object \n",
      " 6   insurance           961449 non-null  object \n",
      " 7   marital_status      961449 non-null  object \n",
      " 8   race                961449 non-null  object \n",
      " 9   weight              961449 non-null  float64\n",
      " 10  bp_systolic         961449 non-null  float64\n",
      " 11  bp_diastolic        961449 non-null  float64\n",
      " 12  died                961449 non-null  bool   \n",
      " 13  length_of_stay      961449 non-null  int64  \n",
      "dtypes: bool(1), float64(3), int64(2), object(8)\n",
      "memory usage: 103.6+ MB\n"
     ]
    }
   ],
   "source": [
    "Q1 = model_df.length_of_stay.quantile(0.25)\n",
    "Q3 = model_df.length_of_stay.quantile(0.75)\n",
    "IQR = Q3 - Q1\n",
    "lower_bound = Q1 - 1.5 * IQR\n",
    "upper_bound = Q3 + 1.5 * IQR\n",
    "\n",
    "model_df = model_df[(model_df.length_of_stay >= lower_bound) & (model_df.length_of_stay <= upper_bound)]\n",
    "model_df.info()"
   ]
  },
  {
   "cell_type": "code",
   "execution_count": 10,
   "metadata": {},
   "outputs": [
    {
     "data": {
      "image/png": "[encoded data removed]",
      "text/plain": [
       "<Figure size 640x480 with 1 Axes>"
      ]
     },
     "metadata": {},
     "output_type": "display_data"
    }
   ],
   "source": [
    "dfh.boxplot(model_df, \"length_of_stay\")"
   ]
  },
  {
   "cell_type": "markdown",
   "metadata": {},
   "source": [
    "Applying a boxcox transformation so that the target variable follows a more normal distribution"
   ]
  },
  {
   "cell_type": "code",
   "execution_count": 11,
   "metadata": {},
   "outputs": [
    {
     "data": {
      "image/png": "[encoded data removed]",
      "text/plain": [
       "<Figure size 640x480 with 1 Axes>"
      ]
     },
     "metadata": {},
     "output_type": "display_data"
    }
   ],
   "source": [
    "model_df['length_of_stay_boxcox'], box_lambda = stats.boxcox(model_df['length_of_stay'] + 1)  # +1 to avoid log(0)\n",
    "dfh.drop_columns(\n",
    "    model_df,[\n",
    "        \"length_of_stay\",\n",
    "    ]\n",
    ")\n",
    "dfh.qqplot(model_df, \"length_of_stay_boxcox\")"
   ]
  },
  {
   "cell_type": "code",
   "execution_count": 12,
   "metadata": {},
   "outputs": [
    {
     "data": {
      "image/png": "[encoded data removed]",
      "text/plain": [
       "<Figure size 640x480 with 1 Axes>"
      ]
     },
     "metadata": {},
     "output_type": "display_data"
    }
   ],
   "source": [
    "model_df.length_of_stay_boxcox.plot(kind=\"hist\");"
   ]
  },
  {
   "cell_type": "markdown",
   "metadata": {},
   "source": [
    "**Observations**\n",
    "Although not perfect, the distribution is more normal now.\n",
    "\n",
    "### Logistic Regression"
   ]
  },
  {
   "cell_type": "code",
   "execution_count": 13,
   "metadata": {},
   "outputs": [
    {
     "data": {
      "text/html": [
       "<div>\n",
       "<style scoped>\n",
       "    .dataframe tbody tr th:only-of-type {\n",
       "        vertical-align: middle;\n",
       "    }\n",
       "\n",
       "    .dataframe tbody tr th {\n",
       "        vertical-align: top;\n",
       "    }\n",
       "\n",
       "    .dataframe thead th {\n",
       "        text-align: right;\n",
       "    }\n",
       "</style>\n",
       "<table border=\"1\" class=\"dataframe\">\n",
       "  <thead>\n",
       "    <tr style=\"text-align: right;\">\n",
       "      <th></th>\n",
       "      <th>drug</th>\n",
       "      <th>age</th>\n",
       "      <th>diagnosis</th>\n",
       "      <th>gender</th>\n",
       "      <th>admission_type</th>\n",
       "      <th>admission_location</th>\n",
       "      <th>insurance</th>\n",
       "      <th>marital_status</th>\n",
       "      <th>race</th>\n",
       "      <th>weight</th>\n",
       "      <th>bp_systolic</th>\n",
       "      <th>bp_diastolic</th>\n",
       "      <th>length_of_stay_boxcox</th>\n",
       "    </tr>\n",
       "  </thead>\n",
       "  <tbody>\n",
       "    <tr>\n",
       "      <th>0</th>\n",
       "      <td>Fentanyl Citrate</td>\n",
       "      <td>71</td>\n",
       "      <td>Urinary tract infection, site not specified</td>\n",
       "      <td>F</td>\n",
       "      <td>EW EMER.</td>\n",
       "      <td>EMERGENCY ROOM</td>\n",
       "      <td>Other</td>\n",
       "      <td>SINGLE</td>\n",
       "      <td>WHITE</td>\n",
       "      <td>69.17</td>\n",
       "      <td>128.0</td>\n",
       "      <td>80.0</td>\n",
       "      <td>3.930764</td>\n",
       "    </tr>\n",
       "    <tr>\n",
       "      <th>1</th>\n",
       "      <td>Fentanyl Citrate</td>\n",
       "      <td>71</td>\n",
       "      <td>Acute respiratory failure</td>\n",
       "      <td>F</td>\n",
       "      <td>EW EMER.</td>\n",
       "      <td>EMERGENCY ROOM</td>\n",
       "      <td>Other</td>\n",
       "      <td>SINGLE</td>\n",
       "      <td>WHITE</td>\n",
       "      <td>69.17</td>\n",
       "      <td>128.0</td>\n",
       "      <td>80.0</td>\n",
       "      <td>3.930764</td>\n",
       "    </tr>\n",
       "    <tr>\n",
       "      <th>2</th>\n",
       "      <td>Fentanyl Citrate</td>\n",
       "      <td>71</td>\n",
       "      <td>Asthma, unspecified type, unspecified</td>\n",
       "      <td>F</td>\n",
       "      <td>EW EMER.</td>\n",
       "      <td>EMERGENCY ROOM</td>\n",
       "      <td>Other</td>\n",
       "      <td>SINGLE</td>\n",
       "      <td>WHITE</td>\n",
       "      <td>69.17</td>\n",
       "      <td>128.0</td>\n",
       "      <td>80.0</td>\n",
       "      <td>3.930764</td>\n",
       "    </tr>\n",
       "    <tr>\n",
       "      <th>3</th>\n",
       "      <td>Fentanyl Citrate</td>\n",
       "      <td>71</td>\n",
       "      <td>Other</td>\n",
       "      <td>F</td>\n",
       "      <td>EW EMER.</td>\n",
       "      <td>EMERGENCY ROOM</td>\n",
       "      <td>Other</td>\n",
       "      <td>SINGLE</td>\n",
       "      <td>WHITE</td>\n",
       "      <td>69.17</td>\n",
       "      <td>128.0</td>\n",
       "      <td>80.0</td>\n",
       "      <td>3.930764</td>\n",
       "    </tr>\n",
       "    <tr>\n",
       "      <th>4</th>\n",
       "      <td>Fentanyl Citrate</td>\n",
       "      <td>71</td>\n",
       "      <td>Other</td>\n",
       "      <td>F</td>\n",
       "      <td>EW EMER.</td>\n",
       "      <td>EMERGENCY ROOM</td>\n",
       "      <td>Other</td>\n",
       "      <td>SINGLE</td>\n",
       "      <td>WHITE</td>\n",
       "      <td>69.17</td>\n",
       "      <td>128.0</td>\n",
       "      <td>80.0</td>\n",
       "      <td>3.930764</td>\n",
       "    </tr>\n",
       "  </tbody>\n",
       "</table>\n",
       "</div>"
      ],
      "text/plain": [
       "               drug  age                                    diagnosis gender  \\\n",
       "0  Fentanyl Citrate   71  Urinary tract infection, site not specified      F   \n",
       "1  Fentanyl Citrate   71                    Acute respiratory failure      F   \n",
       "2  Fentanyl Citrate   71        Asthma, unspecified type, unspecified      F   \n",
       "3  Fentanyl Citrate   71                                        Other      F   \n",
       "4  Fentanyl Citrate   71                                        Other      F   \n",
       "\n",
       "  admission_type admission_location insurance marital_status   race  weight  \\\n",
       "0       EW EMER.     EMERGENCY ROOM     Other         SINGLE  WHITE   69.17   \n",
       "1       EW EMER.     EMERGENCY ROOM     Other         SINGLE  WHITE   69.17   \n",
       "2       EW EMER.     EMERGENCY ROOM     Other         SINGLE  WHITE   69.17   \n",
       "3       EW EMER.     EMERGENCY ROOM     Other         SINGLE  WHITE   69.17   \n",
       "4       EW EMER.     EMERGENCY ROOM     Other         SINGLE  WHITE   69.17   \n",
       "\n",
       "   bp_systolic  bp_diastolic  length_of_stay_boxcox  \n",
       "0        128.0          80.0               3.930764  \n",
       "1        128.0          80.0               3.930764  \n",
       "2        128.0          80.0               3.930764  \n",
       "3        128.0          80.0               3.930764  \n",
       "4        128.0          80.0               3.930764  "
      ]
     },
     "execution_count": 13,
     "metadata": {},
     "output_type": "execute_result"
    }
   ],
   "source": [
    "los_df = model_df.copy()\n",
    "dfh.drop_columns(\n",
    "    los_df,[\n",
    "        \"died\"\n",
    "    ]\n",
    ")\n",
    "categorical = list(dfh.categorical_columns(los_df))\n",
    "continuous = list(dfh.numerical_columns(los_df))\n",
    "continuous.remove('length_of_stay_boxcox')\n",
    "\n",
    "numerical_transformer = Pipeline(steps=[\n",
    "    ('scaler', StandardScaler())  # Standardize numerical features\n",
    "])\n",
    "\n",
    "categorical_transformer = Pipeline(steps=[\n",
    "    ('onehot', OneHotEncoder(sparse_output=False, handle_unknown='ignore'))  # One-hot encode categorical features\n",
    "])\n",
    "\n",
    "preprocessor = ColumnTransformer(\n",
    "    transformers=[\n",
    "        ('cat', categorical_transformer, categorical),\n",
    "        ('num', numerical_transformer, continuous),\n",
    "    ],\n",
    ")\n",
    "los_df.head()"
   ]
  },
  {
   "cell_type": "code",
   "execution_count": 14,
   "metadata": {},
   "outputs": [
    {
     "data": {
      "text/plain": [
       "array([[ 0.        ,  0.        ,  0.        , ...,  0.42857811,\n",
       "        -1.67857719, -1.27107304],\n",
       "       [ 0.        ,  0.        ,  0.        , ..., -1.39892046,\n",
       "         0.818689  , -1.27107304],\n",
       "       [ 0.        ,  0.        ,  1.        , ..., -1.30004131,\n",
       "        -0.94408713,  0.24967259],\n",
       "       ...,\n",
       "       [ 0.        ,  0.        ,  0.        , ...,  1.17017173,\n",
       "         1.07576052, -0.15052363],\n",
       "       [ 0.        ,  0.        ,  0.        , ...,  1.17017173,\n",
       "         1.07576052, -0.15052363],\n",
       "       [ 0.        ,  0.        ,  0.        , ..., -0.45868569,\n",
       "        -1.12770964,  0.00955486]])"
      ]
     },
     "execution_count": 14,
     "metadata": {},
     "output_type": "execute_result"
    }
   ],
   "source": [
    "los_xtrain, los_xtest, los_ytrain, los_ytest = dfh.xy_split(los_df, \"length_of_stay_boxcox\")\n",
    "los_xtrain_transformed = preprocessor.fit_transform(los_xtrain)\n",
    "los_xtest_transformed = preprocessor.transform(los_xtest)\n",
    "los_xtest_transformed"
   ]
  },
  {
   "cell_type": "code",
   "execution_count": 15,
   "metadata": {},
   "outputs": [],
   "source": [
    "import pickle\n",
    "\n",
    "#with open('data/los_xtrain_transformed.pkl', 'wb') as f:\n",
    "#    pickle.dump(los_xtrain_transformed, f)\n",
    "#with open('data/los_xtest_transformed.pkl', 'wb') as f:\n",
    "#    pickle.dump(los_xtest_transformed, f)\n",
    "#with open('data/los_ytrain.pkl', 'wb') as f:\n",
    "#    pickle.dump(los_ytrain, f)\n",
    "#with open('data/los_ytest.pkl', 'wb') as f:\n",
    "#    pickle.dump(los_ytest, f)\n",
    "#with open('data/preprocessor.pkl', 'wb') as f:\n",
    "#    pickle.dump(preprocessor, f)\n",
    "#with open('data/los_df.pkl', 'wb') as f:\n",
    "#    pickle.dump(los_df, f)\n",
    "#los_df.to_csv(\"data/los_df.csv\", index=False)"
   ]
  },
  {
   "cell_type": "code",
   "execution_count": 16,
   "metadata": {},
   "outputs": [
    {
     "name": "stdout",
     "output_type": "stream",
     "text": [
      "Mean Absolute Error (MAE): 0.52\n",
      "Mean Squared Error (MSE): 0.44\n",
      "Root Mean Squared Error (RMSE): 0.67\n",
      "R-squared (R²): 0.38\n",
      "Median Absolute Error: 0.43\n",
      "Explained Variance Score: 0.38\n"
     ]
    }
   ],
   "source": [
    "lr = LinearRegression()\n",
    "lr.fit(los_xtrain_transformed, los_ytrain)\n",
    "\n",
    "# Predict on test set\n",
    "y_pred = lr.predict(los_xtest_transformed)\n",
    "dfh.evaluate_model(y_pred, los_ytest)"
   ]
  },
  {
   "cell_type": "markdown",
   "metadata": {},
   "source": [
    "**Observations**\n",
    "As we can see, the linear regression model only explains 38% of the variance in length of stay.\n",
    "\n",
    "### Random Forest Regression\n",
    "A helper function that converts the predictions back to the original scale"
   ]
  },
  {
   "cell_type": "code",
   "execution_count": 17,
   "metadata": {},
   "outputs": [],
   "source": [
    "def convert_back_to_original_scale(series, box_lambda):\n",
    "    predictions_original = None\n",
    "    if box_lambda != 0:\n",
    "        predictions_original = (series * box_lambda + 1) ** (1 / box_lambda)\n",
    "    else:\n",
    "        predictions_original = np.exp(series)\n",
    "\n",
    "    predictions_original -= 1\n",
    "    return np.round(predictions_original)"
   ]
  },
  {
   "cell_type": "code",
   "execution_count": 18,
   "metadata": {},
   "outputs": [
    {
     "name": "stdout",
     "output_type": "stream",
     "text": [
      "Mean Absolute Error (MAE): 0.25\n",
      "Mean Squared Error (MSE): 0.23\n",
      "Root Mean Squared Error (RMSE): 0.48\n",
      "R-squared (R²): 0.77\n",
      "Median Absolute Error: 0.00\n",
      "Explained Variance Score: 0.77\n"
     ]
    }
   ],
   "source": [
    "#implementing decision tree regression\n",
    "dtr = RandomForestRegressor(n_estimators=5, random_state=42)\n",
    "dtr.fit(los_xtrain_transformed, los_ytrain)\n",
    "# Predict on test set\n",
    "y_pred_dt = dtr.predict(los_xtest_transformed)\n",
    "dfh.evaluate_model(y_pred_dt, los_ytest)"
   ]
  },
  {
   "cell_type": "markdown",
   "metadata": {},
   "source": [
    "**Observations:**\n",
    "The random forest regression model explains ***77% of the variance*** in length of stay. A  great improvement on the linear regression model's 38%.\n",
    "\n",
    "#### Inspecting model predictions"
   ]
  },
  {
   "cell_type": "code",
   "execution_count": 18,
   "metadata": {},
   "outputs": [
    {
     "data": {
      "text/html": [
       "<div>\n",
       "<style scoped>\n",
       "    .dataframe tbody tr th:only-of-type {\n",
       "        vertical-align: middle;\n",
       "    }\n",
       "\n",
       "    .dataframe tbody tr th {\n",
       "        vertical-align: top;\n",
       "    }\n",
       "\n",
       "    .dataframe thead th {\n",
       "        text-align: right;\n",
       "    }\n",
       "</style>\n",
       "<table border=\"1\" class=\"dataframe\">\n",
       "  <thead>\n",
       "    <tr style=\"text-align: right;\">\n",
       "      <th></th>\n",
       "      <th>predictions</th>\n",
       "      <th>actual</th>\n",
       "    </tr>\n",
       "  </thead>\n",
       "  <tbody>\n",
       "    <tr>\n",
       "      <th>0</th>\n",
       "      <td>0.0</td>\n",
       "      <td>0.0</td>\n",
       "    </tr>\n",
       "    <tr>\n",
       "      <th>1</th>\n",
       "      <td>4.0</td>\n",
       "      <td>3.0</td>\n",
       "    </tr>\n",
       "    <tr>\n",
       "      <th>2</th>\n",
       "      <td>4.0</td>\n",
       "      <td>2.0</td>\n",
       "    </tr>\n",
       "    <tr>\n",
       "      <th>3</th>\n",
       "      <td>0.0</td>\n",
       "      <td>0.0</td>\n",
       "    </tr>\n",
       "    <tr>\n",
       "      <th>4</th>\n",
       "      <td>1.0</td>\n",
       "      <td>1.0</td>\n",
       "    </tr>\n",
       "    <tr>\n",
       "      <th>5</th>\n",
       "      <td>2.0</td>\n",
       "      <td>2.0</td>\n",
       "    </tr>\n",
       "    <tr>\n",
       "      <th>6</th>\n",
       "      <td>0.0</td>\n",
       "      <td>0.0</td>\n",
       "    </tr>\n",
       "    <tr>\n",
       "      <th>7</th>\n",
       "      <td>4.0</td>\n",
       "      <td>10.0</td>\n",
       "    </tr>\n",
       "    <tr>\n",
       "      <th>8</th>\n",
       "      <td>0.0</td>\n",
       "      <td>0.0</td>\n",
       "    </tr>\n",
       "    <tr>\n",
       "      <th>9</th>\n",
       "      <td>3.0</td>\n",
       "      <td>1.0</td>\n",
       "    </tr>\n",
       "    <tr>\n",
       "      <th>10</th>\n",
       "      <td>4.0</td>\n",
       "      <td>6.0</td>\n",
       "    </tr>\n",
       "    <tr>\n",
       "      <th>11</th>\n",
       "      <td>2.0</td>\n",
       "      <td>2.0</td>\n",
       "    </tr>\n",
       "    <tr>\n",
       "      <th>12</th>\n",
       "      <td>0.0</td>\n",
       "      <td>0.0</td>\n",
       "    </tr>\n",
       "    <tr>\n",
       "      <th>13</th>\n",
       "      <td>4.0</td>\n",
       "      <td>4.0</td>\n",
       "    </tr>\n",
       "    <tr>\n",
       "      <th>14</th>\n",
       "      <td>4.0</td>\n",
       "      <td>4.0</td>\n",
       "    </tr>\n",
       "    <tr>\n",
       "      <th>15</th>\n",
       "      <td>15.0</td>\n",
       "      <td>15.0</td>\n",
       "    </tr>\n",
       "    <tr>\n",
       "      <th>16</th>\n",
       "      <td>13.0</td>\n",
       "      <td>13.0</td>\n",
       "    </tr>\n",
       "    <tr>\n",
       "      <th>17</th>\n",
       "      <td>13.0</td>\n",
       "      <td>14.0</td>\n",
       "    </tr>\n",
       "    <tr>\n",
       "      <th>18</th>\n",
       "      <td>9.0</td>\n",
       "      <td>9.0</td>\n",
       "    </tr>\n",
       "    <tr>\n",
       "      <th>19</th>\n",
       "      <td>16.0</td>\n",
       "      <td>16.0</td>\n",
       "    </tr>\n",
       "  </tbody>\n",
       "</table>\n",
       "</div>"
      ],
      "text/plain": [
       "    predictions  actual\n",
       "0           0.0     0.0\n",
       "1           4.0     3.0\n",
       "2           4.0     2.0\n",
       "3           0.0     0.0\n",
       "4           1.0     1.0\n",
       "5           2.0     2.0\n",
       "6           0.0     0.0\n",
       "7           4.0    10.0\n",
       "8           0.0     0.0\n",
       "9           3.0     1.0\n",
       "10          4.0     6.0\n",
       "11          2.0     2.0\n",
       "12          0.0     0.0\n",
       "13          4.0     4.0\n",
       "14          4.0     4.0\n",
       "15         15.0    15.0\n",
       "16         13.0    13.0\n",
       "17         13.0    14.0\n",
       "18          9.0     9.0\n",
       "19         16.0    16.0"
      ]
     },
     "execution_count": 18,
     "metadata": {},
     "output_type": "execute_result"
    }
   ],
   "source": [
    "y_pred_dt_series = pd.Series(np.array(y_pred_dt), name=\"predictions\")\n",
    "los_ytest_series = pd.Series(np.array(los_ytest), name=\"actual\")\n",
    "y_pred_dt_series = convert_back_to_original_scale(y_pred_dt_series, box_lambda)\n",
    "los_ytest_series = convert_back_to_original_scale(los_ytest_series, box_lambda)\n",
    "comparison_df = pd.concat([y_pred_dt_series, los_ytest_series], axis=1)\n",
    "comparison_df.head(20)"
   ]
  },
  {
   "cell_type": "code",
   "execution_count": 19,
   "metadata": {},
   "outputs": [
    {
     "name": "stdout",
     "output_type": "stream",
     "text": [
      "test los: 15.0 days\n"
     ]
    }
   ],
   "source": [
    "test = los_df.iloc[600].to_dict()\n",
    "print(f\"test los: {convert_back_to_original_scale(test['length_of_stay_boxcox'], box_lambda)} days\")"
   ]
  },
  {
   "cell_type": "code",
   "execution_count": 20,
   "metadata": {},
   "outputs": [
    {
     "name": "stdout",
     "output_type": "stream",
     "text": [
      "predicted los: 15.0 days\n"
     ]
    }
   ],
   "source": [
    "test_df = pd.DataFrame([test])\n",
    "tempx, tempy = test_df.drop(\"length_of_stay_boxcox\", axis=1), test_df[\"length_of_stay_boxcox\"]\n",
    "tempx_transformed = preprocessor.transform(tempx)\n",
    "\n",
    "print(f\"predicted los: {convert_back_to_original_scale(dtr.predict(tempx_transformed), box_lambda)[0]} days\")\n"
   ]
  },
  {
   "cell_type": "code",
   "execution_count": 21,
   "metadata": {},
   "outputs": [],
   "source": []
  }
 ],
 "metadata": {
  "kernelspec": {
   "display_name": "dev",
   "language": "python",
   "name": "python3"
  },
  "language_info": {
   "codemirror_mode": {
    "name": "ipython",
    "version": 3
   },
   "file_extension": ".py",
   "mimetype": "text/x-python",
   "name": "python",
   "nbconvert_exporter": "python",
   "pygments_lexer": "ipython3",
   "version": "3.8.19"
  }
 },
 "nbformat": 4,
 "nbformat_minor": 2
}
